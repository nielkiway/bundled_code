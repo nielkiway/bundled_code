{
 "cells": [
  {
   "cell_type": "code",
   "execution_count": 2,
   "metadata": {},
   "outputs": [],
   "source": [
    "import os \n",
    "from PIL import Image"
   ]
  },
  {
   "cell_type": "code",
   "execution_count": 3,
   "metadata": {},
   "outputs": [],
   "source": [
    "# first step: getting list with all the images in the folder \n",
    "d = '/home/jan/Documents/Diplomarbeit/Code_zusammengefasst/QM-Meltpool-Datenaufbereitung/RGB_area_images_all_slices'\n",
    "cur_paths = []\n",
    "for path in os.listdir(d):\n",
    "    full_path = os.path.join(d,path)  # adding the full path as the label is stored in the path\n",
    "    cur_paths.append(full_path)\n",
    "\n",
    "# second step: transfering RGBA to grayscale + copying into new folder with grayscale pictures\n",
    "#for img_path in cur_paths[:2]:\n",
    "#    img = Image.open(img_path).convert('L')\n",
    " ##   #raw_array = np.asarray(img)\n",
    " #   img.save(\"img1.png\")"
   ]
  },
  {
   "cell_type": "code",
   "execution_count": 4,
   "metadata": {},
   "outputs": [
    {
     "data": {
      "text/plain": [
       "'/home/jan/Documents/Diplomarbeit/Code_zusammengefasst/QM-Meltpool-Datenaufbereitung/RGB_area_images_all_slices/area_ZP3_Slice01476.png'"
      ]
     },
     "execution_count": 4,
     "metadata": {},
     "output_type": "execute_result"
    }
   ],
   "source": [
    "cur_paths[2]"
   ]
  },
  {
   "cell_type": "code",
   "execution_count": null,
   "metadata": {},
   "outputs": [],
   "source": []
  }
 ],
 "metadata": {
  "kernelspec": {
   "display_name": "Python [conda env:DataPrep]",
   "language": "python",
   "name": "conda-env-DataPrep-py"
  },
  "language_info": {
   "codemirror_mode": {
    "name": "ipython",
    "version": 3
   },
   "file_extension": ".py",
   "mimetype": "text/x-python",
   "name": "python",
   "nbconvert_exporter": "python",
   "pygments_lexer": "ipython3",
   "version": "3.7.5"
  }
 },
 "nbformat": 4,
 "nbformat_minor": 2
}
