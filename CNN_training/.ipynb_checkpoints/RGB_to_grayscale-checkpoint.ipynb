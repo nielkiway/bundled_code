{
 "cells": [
  {
   "cell_type": "code",
   "execution_count": 8,
   "metadata": {},
   "outputs": [],
   "source": [
    "import os \n",
    "from PIL import Image"
   ]
  },
  {
   "cell_type": "code",
   "execution_count": 9,
   "metadata": {},
   "outputs": [],
   "source": [
    "# first step: getting list with all the images in the folder \n",
    "d = '/home/jan/Documents/Diplomarbeit/Code_zusammengefasst/QM-Meltpool-Datenaufbereitung/RGB_area_images_all_slices'\n",
    "cur_paths = []\n",
    "for path in os.listdir(d):\n",
    "    full_path = os.path.join(d,path)  # adding the full path as the label is stored in the path\n",
    "    cur_paths.append(full_path)\n",
    "\n",
    "# second step: transfering RGBA to grayscale + copying into new folder with grayscale pictures\n",
    "for img_path in cur_paths[:2]:\n",
    "    img = Image.open(img_path).convert('L')\n",
    "    #raw_array = np.asarray(img)\n",
    "    img.save(\"img1.png\")"
   ]
  },
  {
   "cell_type": "code",
   "execution_count": 6,
   "metadata": {},
   "outputs": [
    {
     "data": {
      "text/plain": [
       "['/home/jan/Documents/Diplomarbeit/Code_zusammengefasst/QM-Meltpool-Datenaufbereitung/RGB_area_images_all_slices/area_ZP8_Slice00080.png',\n",
       " '/home/jan/Documents/Diplomarbeit/Code_zusammengefasst/QM-Meltpool-Datenaufbereitung/RGB_area_images_all_slices/area_ZP5_Slice01301.png']"
      ]
     },
     "execution_count": 6,
     "metadata": {},
     "output_type": "execute_result"
    }
   ],
   "source": [
    "cur_paths[:2]"
   ]
  },
  {
   "cell_type": "code",
   "execution_count": null,
   "metadata": {},
   "outputs": [],
   "source": [
    "\n",
    "for d in dirs: \n",
    "    cur_paths = []\n",
    "    for path in os.listdir(d):\n",
    "        full_path = os.path.join(d,path)  # adding the full path as the label is stored in the path\n",
    "        cur_paths.append(full_path)\n",
    "    \n",
    "    # randomly shuffling the created list and cutting it to the desired length\n",
    "    # added to the code for being able to deal with non pre-balanced data sets - if folders both have same length nothing happens at this point\n",
    "    random.seed(random_seed) \n",
    "    random.shuffle(cur_paths)\n",
    "    #cur_paths = cur_paths[:length] \n",
    "    \n",
    "    image_paths.append(cur_paths) # appending the cut list to a new list containing all the final paths        \n",
    "\n",
    "image_paths = [val for sublist in image_paths for val in sublist] # getting the seperate image paths out of the list\n",
    "random.seed(random_seed)\n",
    "random.shuffle(image_paths) # randomly shuffling the list containing the final paths\n",
    "\n",
    "labels = []\n",
    "data = []\n",
    "# generating the label from the second last part of path for every element in the list and adding it to labels-list\n",
    "# loading the np array, resizing and storing it to data-list\n",
    "\n",
    "for path in image_paths:\n",
    "    label = path.split(os.path.sep)[-2] # here it is 'porosity' or 'no_porosity' \n",
    "    # additionally to the pure label the whole path is stored to make a traceback of model_behaviour possible \n",
    "    # the number needs to be changed according to the link to output something like '/porosity/ZP...'\n",
    "    labels.append([label,path[131:]])\n",
    "    img = Image.open(path)\n",
    "    img = img.resize((128, 128), PIL.Image.LANCZOS) \n",
    "    raw_array = np.asarray(img)\n",
    "    array = cv2.cvtColor(raw_array, cv2.COLOR_BGRA2BGR)\n",
    "    data.append(array)"
   ]
  }
 ],
 "metadata": {
  "kernelspec": {
   "display_name": "Python [conda env:DataPrep]",
   "language": "python",
   "name": "conda-env-DataPrep-py"
  },
  "language_info": {
   "codemirror_mode": {
    "name": "ipython",
    "version": 3
   },
   "file_extension": ".py",
   "mimetype": "text/x-python",
   "name": "python",
   "nbconvert_exporter": "python",
   "pygments_lexer": "ipython3",
   "version": "3.7.5"
  }
 },
 "nbformat": 4,
 "nbformat_minor": 2
}
